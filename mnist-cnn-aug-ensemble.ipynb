{
 "cells": [
  {
   "cell_type": "code",
   "execution_count": 1,
   "metadata": {
    "_cell_guid": "b1076dfc-b9ad-4769-8c92-a6c4dae69d19",
    "_uuid": "8f2839f25d086af736a60e9eeb907d3b93b6e0e5",
    "execution": {
     "iopub.execute_input": "2020-10-25T21:53:08.696768Z",
     "iopub.status.busy": "2020-10-25T21:53:08.695987Z",
     "iopub.status.idle": "2020-10-25T21:53:15.479064Z",
     "shell.execute_reply": "2020-10-25T21:53:15.479696Z"
    },
    "papermill": {
     "duration": 6.801865,
     "end_time": "2020-10-25T21:53:15.479915",
     "exception": false,
     "start_time": "2020-10-25T21:53:08.678050",
     "status": "completed"
    },
    "tags": []
   },
   "outputs": [
    {
     "name": "stdout",
     "output_type": "stream",
     "text": [
      "/kaggle/input/digit-recognizer/test.csv\n",
      "/kaggle/input/digit-recognizer/sample_submission.csv\n",
      "/kaggle/input/digit-recognizer/train.csv\n"
     ]
    }
   ],
   "source": [
    "import tensorflow as tf\n",
    "from tensorflow import keras\n",
    "from sklearn.model_selection import train_test_split\n",
    "\n",
    "import numpy as np\n",
    "import pandas as pd\n",
    "\n",
    "import os\n",
    "for dirname, _, filenames in os.walk('/kaggle/input'):\n",
    "    for filename in filenames:\n",
    "        print(os.path.join(dirname, filename))"
   ]
  },
  {
   "cell_type": "code",
   "execution_count": 2,
   "metadata": {
    "_cell_guid": "79c7e3d0-c299-4dcb-8224-4455121ee9b0",
    "_uuid": "d629ff2d2480ee46fbb7e2d37f6b5fab8052498a",
    "execution": {
     "iopub.execute_input": "2020-10-25T21:53:15.509319Z",
     "iopub.status.busy": "2020-10-25T21:53:15.508720Z",
     "iopub.status.idle": "2020-10-25T21:53:22.211419Z",
     "shell.execute_reply": "2020-10-25T21:53:22.210266Z"
    },
    "papermill": {
     "duration": 6.718887,
     "end_time": "2020-10-25T21:53:22.211546",
     "exception": false,
     "start_time": "2020-10-25T21:53:15.492659",
     "status": "completed"
    },
    "tags": []
   },
   "outputs": [],
   "source": [
    "train = pd.read_csv('/kaggle/input/digit-recognizer/train.csv')\n",
    "test = pd.read_csv('/kaggle/input/digit-recognizer/test.csv')"
   ]
  },
  {
   "cell_type": "code",
   "execution_count": 3,
   "metadata": {
    "execution": {
     "iopub.execute_input": "2020-10-25T21:53:22.256855Z",
     "iopub.status.busy": "2020-10-25T21:53:22.255717Z",
     "iopub.status.idle": "2020-10-25T21:53:22.339129Z",
     "shell.execute_reply": "2020-10-25T21:53:22.338595Z"
    },
    "papermill": {
     "duration": 0.115447,
     "end_time": "2020-10-25T21:53:22.339270",
     "exception": false,
     "start_time": "2020-10-25T21:53:22.223823",
     "status": "completed"
    },
    "tags": []
   },
   "outputs": [],
   "source": [
    "X_train_raw = train.drop(columns=['label']).to_numpy()\n",
    "y_train_raw = train['label'].to_numpy()"
   ]
  },
  {
   "cell_type": "code",
   "execution_count": 4,
   "metadata": {
    "execution": {
     "iopub.execute_input": "2020-10-25T21:53:22.371721Z",
     "iopub.status.busy": "2020-10-25T21:53:22.370258Z",
     "iopub.status.idle": "2020-10-25T21:53:22.374080Z",
     "shell.execute_reply": "2020-10-25T21:53:22.373582Z"
    },
    "papermill": {
     "duration": 0.021089,
     "end_time": "2020-10-25T21:53:22.374191",
     "exception": false,
     "start_time": "2020-10-25T21:53:22.353102",
     "status": "completed"
    },
    "tags": []
   },
   "outputs": [
    {
     "name": "stdout",
     "output_type": "stream",
     "text": [
      "(42000, 784)\n",
      "(42000,)\n"
     ]
    }
   ],
   "source": [
    "print(X_train_raw.shape)\n",
    "print(y_train_raw.shape)"
   ]
  },
  {
   "cell_type": "code",
   "execution_count": 5,
   "metadata": {
    "execution": {
     "iopub.execute_input": "2020-10-25T21:53:22.404946Z",
     "iopub.status.busy": "2020-10-25T21:53:22.404082Z",
     "iopub.status.idle": "2020-10-25T21:53:22.735075Z",
     "shell.execute_reply": "2020-10-25T21:53:22.734558Z"
    },
    "papermill": {
     "duration": 0.348957,
     "end_time": "2020-10-25T21:53:22.735214",
     "exception": false,
     "start_time": "2020-10-25T21:53:22.386257",
     "status": "completed"
    },
    "tags": []
   },
   "outputs": [],
   "source": [
    "x_mean = np.mean(X_train_raw)\n",
    "x_std = np.std(X_train_raw)\n",
    "\n",
    "def standarize(X):\n",
    "    return (X - x_mean) / x_std\n",
    "\n",
    "X_train = np.reshape(X_train_raw,(-1,28,28,1))\n",
    "X_train = standarize(X_train)\n",
    "\n",
    "y_train_cat = keras.utils.to_categorical(y_train_raw)"
   ]
  },
  {
   "cell_type": "code",
   "execution_count": 6,
   "metadata": {
    "execution": {
     "iopub.execute_input": "2020-10-25T21:53:22.766268Z",
     "iopub.status.busy": "2020-10-25T21:53:22.765632Z",
     "iopub.status.idle": "2020-10-25T21:53:22.771628Z",
     "shell.execute_reply": "2020-10-25T21:53:22.771115Z"
    },
    "papermill": {
     "duration": 0.023983,
     "end_time": "2020-10-25T21:53:22.771727",
     "exception": false,
     "start_time": "2020-10-25T21:53:22.747744",
     "status": "completed"
    },
    "tags": []
   },
   "outputs": [
    {
     "data": {
      "text/plain": [
       "(42000, 10)"
      ]
     },
     "execution_count": 6,
     "metadata": {},
     "output_type": "execute_result"
    }
   ],
   "source": [
    "y_train_cat.shape"
   ]
  },
  {
   "cell_type": "code",
   "execution_count": 7,
   "metadata": {
    "execution": {
     "iopub.execute_input": "2020-10-25T21:53:22.803178Z",
     "iopub.status.busy": "2020-10-25T21:53:22.801998Z",
     "iopub.status.idle": "2020-10-25T21:53:22.906514Z",
     "shell.execute_reply": "2020-10-25T21:53:22.905931Z"
    },
    "papermill": {
     "duration": 0.122237,
     "end_time": "2020-10-25T21:53:22.906645",
     "exception": false,
     "start_time": "2020-10-25T21:53:22.784408",
     "status": "completed"
    },
    "tags": []
   },
   "outputs": [],
   "source": [
    "data_generator = keras.preprocessing.image.ImageDataGenerator(\n",
    "    rotation_range=10,\n",
    "    width_shift_range=0.1,\n",
    "    height_shift_range=0.1,\n",
    "    zoom_range=0.1\n",
    ")\n",
    "\n",
    "data_generator.fit(X_train)"
   ]
  },
  {
   "cell_type": "code",
   "execution_count": 8,
   "metadata": {
    "execution": {
     "iopub.execute_input": "2020-10-25T21:53:22.948817Z",
     "iopub.status.busy": "2020-10-25T21:53:22.948065Z",
     "iopub.status.idle": "2020-10-25T21:53:22.951786Z",
     "shell.execute_reply": "2020-10-25T21:53:22.951302Z"
    },
    "papermill": {
     "duration": 0.032128,
     "end_time": "2020-10-25T21:53:22.951878",
     "exception": false,
     "start_time": "2020-10-25T21:53:22.919750",
     "status": "completed"
    },
    "tags": []
   },
   "outputs": [],
   "source": [
    "def make_model():\n",
    "    model = keras.models.Sequential()\n",
    "    model.add(keras.layers.Conv2D(32, kernel_size=3,activation='relu',kernel_initializer='he_normal',input_shape=(28, 28, 1)))\n",
    "    model.add(keras.layers.BatchNormalization()) \n",
    "    model.add(keras.layers.Conv2D(32, kernel_size=3,activation='relu'))\n",
    "    model.add(keras.layers.BatchNormalization()) \n",
    "    model.add(keras.layers.Conv2D(32, kernel_size=5, strides=2, padding='same',activation='relu'))\n",
    "    model.add(keras.layers.BatchNormalization())\n",
    "    model.add(keras.layers.Dropout(0.4))\n",
    "    \n",
    "    model.add(keras.layers.Conv2D(64, kernel_size=3, activation ='relu'))\n",
    "    model.add(keras.layers.BatchNormalization())\n",
    "    model.add(keras.layers.Conv2D(64, kernel_size=3, activation ='relu'))\n",
    "    model.add(keras.layers.BatchNormalization())\n",
    "    model.add(keras.layers.Conv2D(64, kernel_size=5, strides=2, padding='same',activation='relu'))\n",
    "    model.add(keras.layers.BatchNormalization())\n",
    "    model.add(keras.layers.Dropout(0.4))\n",
    "    \n",
    "    model.add(keras.layers.Flatten())\n",
    "    model.add(keras.layers.Dense(128, activation = \"relu\"))\n",
    "    model.add(keras.layers.BatchNormalization())\n",
    "    model.add(keras.layers.Dropout(0.4))\n",
    "    model.add(keras.layers.Dense(10, activation = \"softmax\"))\n",
    "    \n",
    "    model.compile(loss='categorical_crossentropy', optimizer='adam', metrics=['accuracy'])\n",
    "    return model"
   ]
  },
  {
   "cell_type": "code",
   "execution_count": 9,
   "metadata": {
    "execution": {
     "iopub.execute_input": "2020-10-25T21:53:22.982920Z",
     "iopub.status.busy": "2020-10-25T21:53:22.982329Z",
     "iopub.status.idle": "2020-10-25T21:53:30.150394Z",
     "shell.execute_reply": "2020-10-25T21:53:30.149572Z"
    },
    "papermill": {
     "duration": 7.185302,
     "end_time": "2020-10-25T21:53:30.150530",
     "exception": false,
     "start_time": "2020-10-25T21:53:22.965228",
     "status": "completed"
    },
    "tags": []
   },
   "outputs": [],
   "source": [
    "ens_size=16\n",
    "model = [0]*ens_size\n",
    "\n",
    "for i in range(ens_size):\n",
    "    model[i] = make_model()"
   ]
  },
  {
   "cell_type": "code",
   "execution_count": 10,
   "metadata": {
    "execution": {
     "iopub.execute_input": "2020-10-25T21:53:30.188370Z",
     "iopub.status.busy": "2020-10-25T21:53:30.187330Z",
     "iopub.status.idle": "2020-10-26T00:24:30.559612Z",
     "shell.execute_reply": "2020-10-26T00:24:30.560381Z"
    },
    "papermill": {
     "duration": 9060.396519,
     "end_time": "2020-10-26T00:24:30.560598",
     "exception": false,
     "start_time": "2020-10-25T21:53:30.164079",
     "status": "completed"
    },
    "tags": []
   },
   "outputs": [
    {
     "name": "stdout",
     "output_type": "stream",
     "text": [
      "CNN 0: Train accuracy=0.99291, Validation accuracy=0.99548\n",
      "CNN 1: Train accuracy=0.99294, Validation accuracy=0.99571\n",
      "CNN 2: Train accuracy=0.99312, Validation accuracy=0.99786\n",
      "CNN 3: Train accuracy=0.99280, Validation accuracy=0.99619\n",
      "CNN 4: Train accuracy=0.99347, Validation accuracy=0.99714\n",
      "CNN 5: Train accuracy=0.99259, Validation accuracy=0.99595\n",
      "CNN 6: Train accuracy=0.99294, Validation accuracy=0.99452\n",
      "CNN 7: Train accuracy=0.99272, Validation accuracy=0.99619\n",
      "CNN 8: Train accuracy=0.99325, Validation accuracy=0.99476\n",
      "CNN 9: Train accuracy=0.99299, Validation accuracy=0.99762\n",
      "CNN 10: Train accuracy=0.99272, Validation accuracy=0.99595\n",
      "CNN 11: Train accuracy=0.99328, Validation accuracy=0.99643\n",
      "CNN 12: Train accuracy=0.99307, Validation accuracy=0.99619\n",
      "CNN 13: Train accuracy=0.99270, Validation accuracy=0.99714\n",
      "CNN 14: Train accuracy=0.99312, Validation accuracy=0.99643\n",
      "CNN 15: Train accuracy=0.99272, Validation accuracy=0.99643\n",
      "9060.3379\n"
     ]
    }
   ],
   "source": [
    "import time\n",
    "history = [0]*ens_size\n",
    "\n",
    "\n",
    "start = time.perf_counter()\n",
    "\n",
    "for i in range(ens_size):\n",
    "    callbacks = [keras.callbacks.ModelCheckpoint('/kaggle/working/mdl-{}-of-{}.hdf5'\n",
    "                                                 .format(i,ens_size-1),save_best_only=True, monitor='val_accuracy', mode='max')]\n",
    "    \n",
    "    X_train_ens, X_valid_ens, y_train_ens, y_valid_ens = train_test_split(X_train, y_train_cat, train_size=0.9)\n",
    "    train_aug = data_generator.flow(X_train_ens, y_train_ens)\n",
    "    \n",
    "    history[i] = model[i].fit_generator(train_aug, epochs=40,\n",
    "                              validation_data=(X_valid_ens, y_valid_ens),\n",
    "                              callbacks=callbacks, verbose = 0)\n",
    "    \n",
    "    print(\"CNN {}: Train accuracy={:0.5f}, Validation accuracy={:0.5f}\"\n",
    "      .format(i,max(history[i].history['accuracy']),max(history[i].history['val_accuracy']) ))\n",
    "    \n",
    "stop = time.perf_counter()\n",
    "print(f\"{stop - start:0.4f}\")"
   ]
  },
  {
   "cell_type": "code",
   "execution_count": 11,
   "metadata": {
    "execution": {
     "iopub.execute_input": "2020-10-26T00:24:30.623339Z",
     "iopub.status.busy": "2020-10-26T00:24:30.622636Z",
     "iopub.status.idle": "2020-10-26T00:24:31.074321Z",
     "shell.execute_reply": "2020-10-26T00:24:31.075432Z"
    },
    "papermill": {
     "duration": 0.488744,
     "end_time": "2020-10-26T00:24:31.075609",
     "exception": false,
     "start_time": "2020-10-26T00:24:30.586865",
     "status": "completed"
    },
    "tags": []
   },
   "outputs": [
    {
     "data": {
      "image/png": "[encoded data removed]",
      "text/plain": [
       "<Figure size 432x288 with 1 Axes>"
      ]
     },
     "metadata": {
      "needs_background": "light"
     },
     "output_type": "display_data"
    },
    {
     "data": {
      "image/png": "[encoded data removed]",
      "text/plain": [
       "<Figure size 432x288 with 1 Axes>"
      ]
     },
     "metadata": {
      "needs_background": "light"
     },
     "output_type": "display_data"
    }
   ],
   "source": [
    "import matplotlib.pyplot as plt\n",
    "\n",
    "def visualize_accuracy(history):\n",
    "    plt.plot(history.history['accuracy'])\n",
    "    plt.plot(history.history['val_accuracy'])\n",
    "    plt.ylabel('accuracy')\n",
    "    plt.xlabel('epoch')\n",
    "    plt.legend(['train', 'test'], loc='upper right')\n",
    "    plt.show()\n",
    "\n",
    "def visualize_loss(history):\n",
    "    plt.plot(history.history['loss'])\n",
    "    plt.plot(history.history['val_loss'])\n",
    "    plt.ylabel('loss')\n",
    "    plt.xlabel('epoch')\n",
    "    plt.legend(['train', 'test'], loc='upper right')\n",
    "    plt.show()\n",
    "    \n",
    "visualize_accuracy(history[0])\n",
    "visualize_loss(history[0])"
   ]
  },
  {
   "cell_type": "code",
   "execution_count": 12,
   "metadata": {
    "execution": {
     "iopub.execute_input": "2020-10-26T00:24:31.149568Z",
     "iopub.status.busy": "2020-10-26T00:24:31.147803Z",
     "iopub.status.idle": "2020-10-26T00:24:31.243814Z",
     "shell.execute_reply": "2020-10-26T00:24:31.245009Z"
    },
    "papermill": {
     "duration": 0.138699,
     "end_time": "2020-10-26T00:24:31.245209",
     "exception": false,
     "start_time": "2020-10-26T00:24:31.106510",
     "status": "completed"
    },
    "tags": []
   },
   "outputs": [],
   "source": [
    "X_test = np.reshape(test.to_numpy(),(-1,28,28,1))\n",
    "X_test = standarize(X_test)"
   ]
  },
  {
   "cell_type": "code",
   "execution_count": 13,
   "metadata": {
    "execution": {
     "iopub.execute_input": "2020-10-26T00:24:31.317884Z",
     "iopub.status.busy": "2020-10-26T00:24:31.317020Z",
     "iopub.status.idle": "2020-10-26T00:25:00.536479Z",
     "shell.execute_reply": "2020-10-26T00:25:00.537721Z"
    },
    "papermill": {
     "duration": 29.260244,
     "end_time": "2020-10-26T00:25:00.537944",
     "exception": false,
     "start_time": "2020-10-26T00:24:31.277700",
     "status": "completed"
    },
    "tags": []
   },
   "outputs": [],
   "source": [
    "preds = np.zeros((X_test.shape[0],10))\n",
    "\n",
    "for i in range(ens_size):\n",
    "    mdl = keras.models.load_model('/kaggle/working/mdl-{}-of-{}.hdf5'.format(i,ens_size-1))\n",
    "    preds = preds + mdl.predict(X_test)"
   ]
  },
  {
   "cell_type": "code",
   "execution_count": 14,
   "metadata": {
    "execution": {
     "iopub.execute_input": "2020-10-26T00:25:00.608840Z",
     "iopub.status.busy": "2020-10-26T00:25:00.606208Z",
     "iopub.status.idle": "2020-10-26T00:25:00.611828Z",
     "shell.execute_reply": "2020-10-26T00:25:00.610963Z"
    },
    "papermill": {
     "duration": 0.043252,
     "end_time": "2020-10-26T00:25:00.612018",
     "exception": false,
     "start_time": "2020-10-26T00:25:00.568766",
     "status": "completed"
    },
    "tags": []
   },
   "outputs": [
    {
     "data": {
      "text/plain": [
       "(28000,)"
      ]
     },
     "execution_count": 14,
     "metadata": {},
     "output_type": "execute_result"
    }
   ],
   "source": [
    "submit_pred = np.argmax(preds,axis=1)\n",
    "submit_pred.shape"
   ]
  },
  {
   "cell_type": "code",
   "execution_count": 15,
   "metadata": {
    "execution": {
     "iopub.execute_input": "2020-10-26T00:25:00.697650Z",
     "iopub.status.busy": "2020-10-26T00:25:00.696813Z",
     "iopub.status.idle": "2020-10-26T00:25:00.728361Z",
     "shell.execute_reply": "2020-10-26T00:25:00.729420Z"
    },
    "papermill": {
     "duration": 0.087532,
     "end_time": "2020-10-26T00:25:00.729573",
     "exception": false,
     "start_time": "2020-10-26T00:25:00.642041",
     "status": "completed"
    },
    "tags": []
   },
   "outputs": [],
   "source": [
    "submition = pd.read_csv('/kaggle/input/digit-recognizer/sample_submission.csv')\n",
    "submition['Label'] = submit_pred"
   ]
  },
  {
   "cell_type": "code",
   "execution_count": 16,
   "metadata": {
    "execution": {
     "iopub.execute_input": "2020-10-26T00:25:00.800110Z",
     "iopub.status.busy": "2020-10-26T00:25:00.799165Z",
     "iopub.status.idle": "2020-10-26T00:25:01.119329Z",
     "shell.execute_reply": "2020-10-26T00:25:01.120108Z"
    },
    "papermill": {
     "duration": 0.358248,
     "end_time": "2020-10-26T00:25:01.120343",
     "exception": false,
     "start_time": "2020-10-26T00:25:00.762095",
     "status": "completed"
    },
    "tags": []
   },
   "outputs": [],
   "source": [
    "submition.to_csv('/kaggle/working/submition_ens3.csv', index=False)"
   ]
  }
 ],
 "metadata": {
  "kernelspec": {
   "display_name": "Python 3",
   "language": "python",
   "name": "python3"
  },
  "language_info": {
   "codemirror_mode": {
    "name": "ipython",
    "version": 3
   },
   "file_extension": ".py",
   "mimetype": "text/x-python",
   "name": "python",
   "nbconvert_exporter": "python",
   "pygments_lexer": "ipython3",
   "version": "3.7.6"
  },
  "papermill": {
   "duration": 9118.662519,
   "end_time": "2020-10-26T00:25:03.026242",
   "environment_variables": {},
   "exception": null,
   "input_path": "__notebook__.ipynb",
   "output_path": "__notebook__.ipynb",
   "parameters": {},
   "start_time": "2020-10-25T21:53:04.363723",
   "version": "2.1.0"
  }
 },
 "nbformat": 4,
 "nbformat_minor": 4
}
